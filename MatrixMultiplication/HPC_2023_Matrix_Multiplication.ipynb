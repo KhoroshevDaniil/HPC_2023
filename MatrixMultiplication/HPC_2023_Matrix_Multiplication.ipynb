{
  "nbformat": 4,
  "nbformat_minor": 0,
  "metadata": {
    "colab": {
      "provenance": [],
      "gpuType": "T4"
    },
    "kernelspec": {
      "name": "python3",
      "display_name": "Python 3"
    },
    "language_info": {
      "name": "python"
    },
    "accelerator": "GPU"
  },
  "cells": [
    {
      "cell_type": "code",
      "execution_count": 2,
      "metadata": {
        "colab": {
          "base_uri": "https://localhost:8080/"
        },
        "id": "pfovO0wKFxNG",
        "outputId": "19ad0a5e-b741-4a9b-adba-1eb8f2160310"
      },
      "outputs": [
        {
          "output_type": "stream",
          "name": "stdout",
          "text": [
            "nvcc: NVIDIA (R) Cuda compiler driver\n",
            "Copyright (c) 2005-2022 NVIDIA Corporation\n",
            "Built on Wed_Sep_21_10:33:58_PDT_2022\n",
            "Cuda compilation tools, release 11.8, V11.8.89\n",
            "Build cuda_11.8.r11.8/compiler.31833905_0\n",
            "Collecting git+https://github.com/andreinechaev/nvcc4jupyter.git\n",
            "  Cloning https://github.com/andreinechaev/nvcc4jupyter.git to /tmp/pip-req-build-y_gu3c4n\n",
            "  Running command git clone --filter=blob:none --quiet https://github.com/andreinechaev/nvcc4jupyter.git /tmp/pip-req-build-y_gu3c4n\n",
            "  Resolved https://github.com/andreinechaev/nvcc4jupyter.git to commit 0a71d56e5dce3ff1f0dd2c47c29367629262f527\n",
            "  Preparing metadata (setup.py) ... \u001b[?25l\u001b[?25hdone\n",
            "Building wheels for collected packages: NVCCPlugin\n",
            "  Building wheel for NVCCPlugin (setup.py) ... \u001b[?25l\u001b[?25hdone\n",
            "  Created wheel for NVCCPlugin: filename=NVCCPlugin-0.0.2-py3-none-any.whl size=4295 sha256=e1107d56ec38311979c107d83819f3d7c3789751a74dcc83aed0362e30beba4e\n",
            "  Stored in directory: /tmp/pip-ephem-wheel-cache-i9wtlknf/wheels/a8/b9/18/23f8ef71ceb0f63297dd1903aedd067e6243a68ea756d6feea\n",
            "Successfully built NVCCPlugin\n",
            "Installing collected packages: NVCCPlugin\n",
            "Successfully installed NVCCPlugin-0.0.2\n",
            "created output directory at /content/src\n",
            "Out bin /content/result.out\n"
          ]
        }
      ],
      "source": [
        "!nvcc --version\n",
        "!pip install git+https://github.com/andreinechaev/nvcc4jupyter.git\n",
        "%load_ext nvcc_plugin"
      ]
    },
    {
      "cell_type": "code",
      "source": [
        "%%cuda --name matmul.cu\n",
        "#include <cstdlib>\n",
        "#include <curand.h>\n",
        "#include <cublas_v2.h>\n",
        "#include <iostream>\n",
        "#include <ctime>\n",
        "\n",
        "// Fill the array A(nr_rows_A, nr_cols_A) with random numbers on GPU\n",
        "void GPU_fill_rand(double *A, int nr_rows_A, int nr_cols_A) {\n",
        "    // Create a pseudo-random number generator\n",
        "    curandGenerator_t prng;\n",
        "    curandCreateGenerator(&prng, CURAND_RNG_PSEUDO_DEFAULT);\n",
        "    // Set the seed for the random number generator using the system clock\n",
        "    curandSetPseudoRandomGeneratorSeed(prng, (unsigned long long) clock());\n",
        "\n",
        "    // Fill the array with random numbers on the device\n",
        "    curandGenerateUniformDouble(prng, A, nr_rows_A * nr_cols_A);\n",
        "}\n",
        "\n",
        "// Multiply the arrays A and B on GPU and save the result in C\n",
        "// C(m,n) = A(m,k) * B(k,n)\n",
        "void gpu_blas_mmul(const double *A, const double *B, double *C, const int m, const int k, const int n) {\n",
        "    int lda=m,ldb=k,ldc=m;\n",
        "    const double alf = 1;\n",
        "    const double bet = 0;\n",
        "    const double *alpha = &alf;\n",
        "    const double *beta = &bet;\n",
        "    // Create a handle for CUBLAS\n",
        "    cublasHandle_t handle;\n",
        "    cublasCreate(&handle);\n",
        "    // Do the actual multiplication\n",
        "    // I switch the parameters A and B to be handled has column major\n",
        "    cublasDgemm(handle, CUBLAS_OP_N, CUBLAS_OP_N, m, n, k, alpha, B, ldb, A, lda, beta, C, ldc);\n",
        "    // Destroy the handle\n",
        "    cublasDestroy(handle);\n",
        "}\n",
        "\n",
        "void cpu_mmul(const double *A, const double *B, double *C, const int N) {\n",
        "    for (int i = 0; i < N; ++i) {\n",
        "        for (int j = 0; j < N; ++j) {\n",
        "            C[i * N + j] = 0.0;\n",
        "            for (int k = 0; k < N; ++k)\n",
        "                C[i * N + j] += A[i * N + k] * B[k * N + j];\n",
        "        }\n",
        "    }\n",
        "}\n",
        "\n",
        "void print_matrix(double* matrix, int rows, int cols) {\n",
        "\tfor(int i = 0; i < rows; ++i){\n",
        "\t\tfor(int j = 0; j < cols; ++j){\n",
        "\t\t\tprintf(\"%f \", matrix[i*rows + j]);\n",
        "\t\t}\n",
        "\t\tprintf(\"\\n\");\n",
        "\t}\n",
        "\tprintf(\"\\n\");\n",
        "}\n",
        "\n",
        "int main() {\n",
        "    // Allocate 3 arrays on CPU\n",
        "    int nr_rows_A, nr_cols_A, nr_rows_B, nr_cols_B, nr_rows_C, nr_cols_C, N;\n",
        "    double start, end, gpu_time, cpu_time;\n",
        "\n",
        "    // for simplicity we are going to use square arrays\n",
        "    nr_rows_A = nr_cols_A = nr_rows_B = nr_cols_B = nr_rows_C = nr_cols_C = N = 100;\n",
        "    double *h_A = (double *)malloc(nr_rows_A * nr_cols_A * sizeof(double));\n",
        "    double *h_B = (double *)malloc(nr_rows_B * nr_cols_B * sizeof(double));\n",
        "    double *h_C = (double *)malloc(nr_rows_C * nr_cols_C * sizeof(double));\n",
        "\n",
        "    // Allocate 3 arrays on GPU\n",
        "    double *d_A, *d_B, *d_C;\n",
        "    cudaMalloc(&d_A,nr_rows_A * nr_cols_A * sizeof(double));\n",
        "    cudaMalloc(&d_B,nr_rows_B * nr_cols_B * sizeof(double));\n",
        "    cudaMalloc(&d_C,nr_rows_C * nr_cols_C * sizeof(double));\n",
        "\n",
        "    // Fill the arrays A and B on GPU with random numbers\n",
        "    GPU_fill_rand(d_A, nr_rows_A, nr_cols_A);\n",
        "    GPU_fill_rand(d_B, nr_rows_B, nr_cols_B);\n",
        "\n",
        "    // Optionally we can copy the data back on CPU and print the arrays\n",
        "    cudaMemcpy(h_A,d_A,nr_rows_A * nr_cols_A * sizeof(double),cudaMemcpyDeviceToHost);\n",
        "    cudaMemcpy(h_B,d_B,nr_rows_B * nr_cols_B * sizeof(double),cudaMemcpyDeviceToHost);\n",
        "    std::cout << \"A =\" << std::endl;\n",
        "    print_matrix(h_A, 5, 5);\n",
        "    std::cout << \"B =\" << std::endl;\n",
        "    print_matrix(h_B, 5, 5);\n",
        "\n",
        "    // Multiply A and B on GPU\n",
        "    start = clock();\n",
        "    gpu_blas_mmul(d_A, d_B, d_C, nr_rows_A, nr_cols_A, nr_cols_B);\n",
        "    end = clock();\n",
        "    gpu_time = (end - start) / CLOCKS_PER_SEC;\n",
        "\n",
        "    // Copy (and print) the result on host memory\n",
        "    cudaMemcpy(h_C,d_C,nr_rows_C * nr_cols_C * sizeof(double),cudaMemcpyDeviceToHost);\n",
        "    std::cout << \"GPU C =\" << std::endl;\n",
        "    print_matrix(h_C, 5, 5);\n",
        "\n",
        "    double *cpu_C = (double *)malloc(nr_rows_C * nr_cols_C * sizeof(double));\n",
        "    start = clock();\n",
        "    cpu_mmul(h_A, h_B, cpu_C, N);\n",
        "    end = clock();\n",
        "    cpu_time = (end - start) / CLOCKS_PER_SEC;\n",
        "    std::cout << \"CPU C =\" << std::endl;\n",
        "    print_matrix(cpu_C, 5, 5);\n",
        "\n",
        "    double error = 0.0;\n",
        "    for (int i = 0; i < N; ++i) {\n",
        "        for (int j = 0; j < N; ++j) {\n",
        "            error += h_C[i * N + j] - cpu_C[i * N + j];\n",
        "        }\n",
        "    }\n",
        "\n",
        "    std::cout << \"\\nError = \" << error << std::endl;\n",
        "    std::cout << \"\\nN = \" << N << std::endl;\n",
        "    std::cout << \"\\nGPU mul time = \" << gpu_time << std::endl;\n",
        "    std::cout << \"\\nCPU mul time = \" << cpu_time << std::endl;\n",
        "\n",
        "    //Free GPU memory\n",
        "    cudaFree(d_A);\n",
        "    cudaFree(d_B);\n",
        "    cudaFree(d_C);\n",
        "\n",
        "    // Free CPU memory\n",
        "    free(h_A);\n",
        "    free(h_B);\n",
        "    free(h_C);\n",
        "    return 0;\n",
        "}"
      ],
      "metadata": {
        "colab": {
          "base_uri": "https://localhost:8080/",
          "height": 35
        },
        "id": "W5jhIXCEF8o4",
        "outputId": "85261664-9b3d-47f0-b865-a944ac9e4792"
      },
      "execution_count": 16,
      "outputs": [
        {
          "output_type": "execute_result",
          "data": {
            "text/plain": [
              "'File written in /content/src/matmul.cu'"
            ],
            "application/vnd.google.colaboratory.intrinsic+json": {
              "type": "string"
            }
          },
          "metadata": {},
          "execution_count": 16
        }
      ]
    },
    {
      "cell_type": "code",
      "source": [
        "!nvcc -o /content/src/matmul /content/src/matmul.cu -lcurand -lcublas"
      ],
      "metadata": {
        "id": "i8sYZSk5F-R3"
      },
      "execution_count": 17,
      "outputs": []
    },
    {
      "cell_type": "code",
      "source": [
        "!/content/src/matmul"
      ],
      "metadata": {
        "colab": {
          "base_uri": "https://localhost:8080/"
        },
        "id": "7JPSB662F_bA",
        "outputId": "db8d4eed-d963-4bbe-eeb3-192fafbe53b7"
      },
      "execution_count": 18,
      "outputs": [
        {
          "output_type": "stream",
          "name": "stdout",
          "text": [
            "A =\n",
            "0.844492 0.911990 0.000489 0.550941 0.708054 \n",
            "0.737119 0.926346 0.417379 0.163721 0.838779 \n",
            "0.707753 0.836986 0.926417 0.735535 0.879712 \n",
            "0.528414 0.388464 0.745783 0.009171 0.315684 \n",
            "0.799919 0.353166 0.707929 0.459296 0.667571 \n",
            "\n",
            "B =\n",
            "0.955601 0.909119 0.527765 0.258019 0.951172 \n",
            "0.648037 0.538285 0.261462 0.544558 0.225344 \n",
            "0.443546 0.257550 0.488215 0.360512 0.115157 \n",
            "0.559572 0.470428 0.630978 0.770834 0.355560 \n",
            "0.215787 0.094661 0.636888 0.259618 0.155270 \n",
            "\n",
            "GPU C =\n",
            "25.151773 27.859753 25.129677 27.065901 24.232069 \n",
            "27.325002 26.567360 24.880420 22.247559 21.556981 \n",
            "26.906172 25.389642 27.555224 25.451055 26.100596 \n",
            "28.090847 25.085958 25.693065 25.590741 26.458642 \n",
            "25.344451 23.251650 27.100390 25.063112 24.833021 \n",
            "\n",
            "CPU C =\n",
            "25.151773 27.859753 25.129677 27.065901 24.232069 \n",
            "27.325002 26.567360 24.880420 22.247559 21.556981 \n",
            "26.906172 25.389642 27.555224 25.451055 26.100596 \n",
            "28.090847 25.085958 25.693065 25.590741 26.458642 \n",
            "25.344451 23.251650 27.100390 25.063112 24.833021 \n",
            "\n",
            "\n",
            "Error = -6.75016e-14\n",
            "\n",
            "N = 100\n",
            "\n",
            "GPU mul time = 0.773984\n",
            "\n",
            "CPU mul time = 0.007691\n"
          ]
        }
      ]
    },
    {
      "cell_type": "code",
      "source": [
        "!pip install matplotlib"
      ],
      "metadata": {
        "colab": {
          "base_uri": "https://localhost:8080/"
        },
        "id": "WweNUmqL-_FB",
        "outputId": "b6cb03c8-74c6-4a44-d1f4-376d07ae9da4"
      },
      "execution_count": 20,
      "outputs": [
        {
          "output_type": "stream",
          "name": "stdout",
          "text": [
            "Requirement already satisfied: matplotlib in /usr/local/lib/python3.10/dist-packages (3.7.1)\n",
            "Requirement already satisfied: contourpy>=1.0.1 in /usr/local/lib/python3.10/dist-packages (from matplotlib) (1.1.1)\n",
            "Requirement already satisfied: cycler>=0.10 in /usr/local/lib/python3.10/dist-packages (from matplotlib) (0.12.0)\n",
            "Requirement already satisfied: fonttools>=4.22.0 in /usr/local/lib/python3.10/dist-packages (from matplotlib) (4.43.0)\n",
            "Requirement already satisfied: kiwisolver>=1.0.1 in /usr/local/lib/python3.10/dist-packages (from matplotlib) (1.4.5)\n",
            "Requirement already satisfied: numpy>=1.20 in /usr/local/lib/python3.10/dist-packages (from matplotlib) (1.23.5)\n",
            "Requirement already satisfied: packaging>=20.0 in /usr/local/lib/python3.10/dist-packages (from matplotlib) (23.2)\n",
            "Requirement already satisfied: pillow>=6.2.0 in /usr/local/lib/python3.10/dist-packages (from matplotlib) (9.4.0)\n",
            "Requirement already satisfied: pyparsing>=2.3.1 in /usr/local/lib/python3.10/dist-packages (from matplotlib) (3.1.1)\n",
            "Requirement already satisfied: python-dateutil>=2.7 in /usr/local/lib/python3.10/dist-packages (from matplotlib) (2.8.2)\n",
            "Requirement already satisfied: six>=1.5 in /usr/local/lib/python3.10/dist-packages (from python-dateutil>=2.7->matplotlib) (1.16.0)\n"
          ]
        }
      ]
    },
    {
      "cell_type": "code",
      "source": [
        "from matplotlib import pyplot as plt\n",
        "%matplotlib inline\n",
        "\n",
        "size = [100, 200, 400, 600, 800, 1000, 1200, 1400, 1600, 1800, 2000]\n",
        "gpu_time = [0.549647, 0.552024, 0.558863, 0.56148, 0.60653, 0.60934, 0.64075, 0.66628, 0.74685, 0.80640, 0.73697]\n",
        "cpu_time = [0.004294, 0.037585, 0.404768, 1.40593, 3.22605, 8.98707, 15.6758, 29.9115, 50.6523, 75.7411, 103.167]\n",
        "\n",
        "assert len(size) == len(gpu_time)\n",
        "assert len(size) == len(cpu_time)\n",
        "\n",
        "acceleration = [cpu / gpu for cpu, gpu in zip(cpu_time, gpu_time)]\n",
        "\n",
        "fig, axes = plt.subplots(nrows=1, ncols=2)\n",
        "axes[0].plot(size, cpu_time, label='CPU', color='b')\n",
        "axes[0].plot(size, gpu_time, label='GPU', color='r')\n",
        "axes[0].grid(True)\n",
        "axes[0].legend()\n",
        "axes[0].set_xlabel(\"Размер матрицы\")\n",
        "axes[0].set_ylabel(\"Время умножения, с\")\n",
        "axes[0].set_title('Время матричного умножения')\n",
        "\n",
        "axes[1].plot(size, acceleration, color='g')\n",
        "axes[1].grid(True)\n",
        "axes[1].set_xlabel(\"Размер матрицы\")\n",
        "axes[1].set_ylabel(\"Разы\")\n",
        "axes[1].set_title('Ускорение вычислений на GPU')\n",
        "\n",
        "plt.tight_layout()\n",
        "plt.show()"
      ],
      "metadata": {
        "id": "lc-_YczINC-i",
        "colab": {
          "base_uri": "https://localhost:8080/",
          "height": 487
        },
        "outputId": "f57e3d2a-6e40-45cf-ef20-5ef10c8333b0"
      },
      "execution_count": 28,
      "outputs": [
        {
          "output_type": "display_data",
          "data": {
            "text/plain": [
              "<Figure size 640x480 with 2 Axes>"
            ],
            "image/png": "[encoded data removed]"
          },
          "metadata": {}
        }
      ]
    }
  ]
}