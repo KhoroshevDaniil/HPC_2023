{
  "nbformat": 4,
  "nbformat_minor": 0,
  "metadata": {
    "colab": {
      "provenance": [],
      "gpuType": "T4"
    },
    "kernelspec": {
      "name": "python3",
      "display_name": "Python 3"
    },
    "language_info": {
      "name": "python"
    },
    "accelerator": "GPU"
  },
  "cells": [
    {
      "cell_type": "code",
      "execution_count": null,
      "metadata": {
        "colab": {
          "base_uri": "https://localhost:8080/"
        },
        "id": "pfovO0wKFxNG",
        "outputId": "20e8889f-d266-4aea-f6a7-fc818986f9e9"
      },
      "outputs": [
        {
          "output_type": "stream",
          "name": "stdout",
          "text": [
            "nvcc: NVIDIA (R) Cuda compiler driver\n",
            "Copyright (c) 2005-2022 NVIDIA Corporation\n",
            "Built on Wed_Sep_21_10:33:58_PDT_2022\n",
            "Cuda compilation tools, release 11.8, V11.8.89\n",
            "Build cuda_11.8.r11.8/compiler.31833905_0\n",
            "Collecting git+https://github.com/andreinechaev/nvcc4jupyter.git\n",
            "  Cloning https://github.com/andreinechaev/nvcc4jupyter.git to /tmp/pip-req-build-36tewrfv\n",
            "  Running command git clone --filter=blob:none --quiet https://github.com/andreinechaev/nvcc4jupyter.git /tmp/pip-req-build-36tewrfv\n",
            "  Resolved https://github.com/andreinechaev/nvcc4jupyter.git to commit 0a71d56e5dce3ff1f0dd2c47c29367629262f527\n",
            "  Preparing metadata (setup.py) ... \u001b[?25l\u001b[?25hdone\n",
            "The nvcc_plugin extension is already loaded. To reload it, use:\n",
            "  %reload_ext nvcc_plugin\n"
          ]
        }
      ],
      "source": [
        "!nvcc --version\n",
        "!pip install git+https://github.com/andreinechaev/nvcc4jupyter.git\n",
        "%load_ext nvcc_plugin"
      ]
    },
    {
      "cell_type": "code",
      "source": [
        "%%cuda --name matmul.cu\n",
        "#include <cstdlib>\n",
        "#include <curand.h>\n",
        "#include <cublas_v2.h>\n",
        "#include <iostream>\n",
        "#include <ctime>\n",
        "\n",
        "\n",
        "using namespace std;\n",
        "\n",
        "\n",
        "#define BLOCK_SIZE 32\n",
        "\n",
        "\n",
        "__global__ void matMulKernel(const double *A, const double *B, double *C, const int N) {\n",
        "    int col = threadIdx.x + blockIdx.x * blockDim.x;\n",
        "    int row = threadIdx.y + blockIdx.y * blockDim.y;\n",
        "\n",
        "    if (row < N && col < N) {\n",
        "        for (int i = 0; i < N; i++) {\n",
        "            C[row * N + col] += A[row * N + i] * B[i * N + col];\n",
        "        }\n",
        "    }\n",
        "}\n",
        "\n",
        "#define kernel matMulKernel\n",
        "\n",
        "\n",
        "// Fill the array A(nr_rows_A, nr_cols_A) with random numbers on GPU\n",
        "void GPU_fill_rand(double *A, int nr_rows_A, int nr_cols_A) {\n",
        "    // Create a pseudo-random number generator\n",
        "    curandGenerator_t prng;\n",
        "    curandCreateGenerator(&prng, CURAND_RNG_PSEUDO_DEFAULT);\n",
        "    // Set the seed for the random number generator using the system clock\n",
        "    curandSetPseudoRandomGeneratorSeed(prng, (unsigned long long) clock());\n",
        "\n",
        "    // Fill the array with random numbers on the device\n",
        "    curandGenerateUniformDouble(prng, A, nr_rows_A * nr_cols_A);\n",
        "}\n",
        "\n",
        "// Multiply the arrays A and B on GPU and save the result in C\n",
        "// C(m,n) = A(m,k) * B(k,n)\n",
        "void gpu_blas_mmul(const double *A, const double *B, double *C, const int m, const int k, const int n) {\n",
        "    int lda=m,ldb=k,ldc=m;\n",
        "    const double alf = 1;\n",
        "    const double bet = 0;\n",
        "    const double *alpha = &alf;\n",
        "    const double *beta = &bet;\n",
        "    // Create a handle for CUBLAS\n",
        "    cublasHandle_t handle;\n",
        "    cublasCreate(&handle);\n",
        "    // Do the actual multiplication\n",
        "    // I switch the parameters A and B to be handled has column major\n",
        "    cublasDgemm(handle, CUBLAS_OP_N, CUBLAS_OP_N, m, n, k, alpha, B, ldb, A, lda, beta, C, ldc);\n",
        "    // Destroy the handle\n",
        "    cublasDestroy(handle);\n",
        "}\n",
        "\n",
        "void cpu_mmul(const double *A, const double *B, double *C, const int N) {\n",
        "    for (int i = 0; i < N; ++i) {\n",
        "        for (int j = 0; j < N; ++j) {\n",
        "            C[i * N + j] = 0.0;\n",
        "            for (int k = 0; k < N; ++k)\n",
        "                C[i * N + j] += A[i * N + k] * B[k * N + j];\n",
        "        }\n",
        "    }\n",
        "}\n",
        "\n",
        "void print_matrix_forward(const double *matrix, const int &rows, const int &cols) {\n",
        "\tfor(int i = 0; i < rows; ++i){\n",
        "\t\tfor(int j = 0; j < cols; ++j){\n",
        "\t\t\tprintf(\"%f \", matrix[i * rows + j]);\n",
        "\t\t}\n",
        "\t\tprintf(\"\\n\");\n",
        "\t}\n",
        "\tprintf(\"\\n\");\n",
        "}\n",
        "\n",
        "void print_matrix_backward(const double *matrix, const int &rows, const int &cols, const int &n) {\n",
        "\tfor(int i = rows - n; i < rows; ++i){\n",
        "\t\tfor(int j = cols - n; j < cols; ++j){\n",
        "\t\t\tprintf(\"%f \", matrix[i * rows + j]);\n",
        "\t\t}\n",
        "\t\tprintf(\"\\n\");\n",
        "\t}\n",
        "\tprintf(\"\\n\");\n",
        "}\n",
        "\n",
        "int main(int argc, char* argv[]) {\n",
        "    int N = atoi(argv[1]);\n",
        "\n",
        "    // Allocate 3 arrays on CPU\n",
        "    int nr_rows_A, nr_cols_A, nr_rows_B, nr_cols_B, nr_rows_C, nr_cols_C;\n",
        "    double start, end, cpu_time;\n",
        "    double gpu_time;\n",
        "    // float gpu_time;\n",
        "    cudaError_t cuerr;\n",
        "\n",
        "    // for simplicity we are going to use square arrays\n",
        "    nr_rows_A = N;\n",
        "    nr_cols_A = N;\n",
        "    nr_rows_B = N;\n",
        "    nr_cols_B = N;\n",
        "    nr_rows_C = N;\n",
        "    nr_cols_C = N;\n",
        "    double *h_A = (double *)malloc(nr_rows_A * nr_cols_A * sizeof(double));\n",
        "    double *h_B = (double *)malloc(nr_rows_B * nr_cols_B * sizeof(double));\n",
        "    double *h_C = (double *)malloc(nr_rows_C * nr_cols_C * sizeof(double));\n",
        "\n",
        "    // Allocate 3 arrays on GPU\n",
        "    double *d_A, *d_B, *d_C;\n",
        "    cudaMalloc(&d_A,nr_rows_A * nr_cols_A * sizeof(double));\n",
        "    cudaMalloc(&d_B,nr_rows_B * nr_cols_B * sizeof(double));\n",
        "    cudaMalloc(&d_C,nr_rows_C * nr_cols_C * sizeof(double));\n",
        "\n",
        "    // Fill the arrays A and B on GPU with random numbers\n",
        "    GPU_fill_rand(d_A, nr_rows_A, nr_cols_A);\n",
        "    GPU_fill_rand(d_B, nr_rows_B, nr_cols_B);\n",
        "\n",
        "    // Optionally we can copy the data back on CPU and print the arrays\n",
        "    cudaMemcpy(h_A,d_A,nr_rows_A * nr_cols_A * sizeof(double),cudaMemcpyDeviceToHost);\n",
        "    cudaMemcpy(h_B,d_B,nr_rows_B * nr_cols_B * sizeof(double),cudaMemcpyDeviceToHost);\n",
        "    cout << \"A =\" << endl;\n",
        "    print_matrix_forward(h_A, 5, 5);\n",
        "    cout << \"B =\" << endl;\n",
        "    print_matrix_forward(h_B, 5, 5);\n",
        "\n",
        "    // Multiply A and B on GPU (library version)\n",
        "    // start = clock();\n",
        "    // gpu_blas_mmul(d_A, d_B, d_C, nr_rows_A, nr_cols_A, nr_cols_B);\n",
        "    // end = clock();\n",
        "    // gpu_time = (end - start) / CLOCKS_PER_SEC;\n",
        "\n",
        "    dim3 threadsPerBlock(BLOCK_SIZE, BLOCK_SIZE);\n",
        "    int GRID_SIZE = (N + BLOCK_SIZE - 1) / BLOCK_SIZE;\n",
        "    dim3 blocksPerGrid(GRID_SIZE, GRID_SIZE);\n",
        "    cout << \"GRID_SIZE: (\" << blocksPerGrid.x << \", \" << blocksPerGrid.y << \", \" << blocksPerGrid.z << ')' << endl;\n",
        "    cout << \"BLOCK_SIZE: (\" << threadsPerBlock.x << \", \" << threadsPerBlock.y << \", \" << threadsPerBlock.z << ')' << endl;\n",
        "\n",
        "    // Multiply A and B on GPU (kernel version)\n",
        "    //cudaEvent_t start_ev, stop_ev;\n",
        "    //cuerr = cudaEventCreate(&start_ev);\n",
        "    //cuerr = cudaEventCreate(&stop_ev);\n",
        "    //cudaEventRecord(start_ev, 0);\n",
        "    start = clock();\n",
        "    // run kernel\n",
        "    kernel<<< blocksPerGrid, threadsPerBlock >>>(d_A, d_B, d_C, N);\n",
        "\n",
        "    cuerr = cudaGetLastError();\n",
        "    if (cuerr != cudaSuccess) {\n",
        "        cout << \"Cannot launch CUDA kernel: \" << cudaGetErrorString(cuerr) << endl;\n",
        "        return 0;\n",
        "    }\n",
        "    cuerr = cudaDeviceSynchronize();\n",
        "    if (cuerr != cudaSuccess) {\n",
        "        cout << \"Cannot synchronize CUDA kernel: \" << cudaGetErrorString(cuerr) << endl;\n",
        "        return 0;\n",
        "    }\n",
        "\n",
        "    end=clock();\n",
        "    gpu_time = (end - start) / CLOCKS_PER_SEC;\n",
        "    //cuerr = cudaEventRecord(stop_ev, 0);\n",
        "    //cudaEventElapsedTime(&gpu_time, start_ev, stop_ev);\n",
        "    //gpu_time /= 1000;\n",
        "\n",
        "    // Copy (and print) the result on host memory\n",
        "    cuerr = cudaMemcpy(h_C, d_C, nr_rows_C * nr_cols_C * sizeof(double), cudaMemcpyDeviceToHost);\n",
        "    if (cuerr != cudaSuccess) {\n",
        "        cout << \"Cannot copy a array from host to device: \" << cudaGetErrorString(cuerr);\n",
        "        return 0;\n",
        "    }\n",
        "    cout << \"\\nGPU C =\" << endl;\n",
        "    cout << \"first 5x5\" << endl;\n",
        "    print_matrix_forward(h_C, 5, 5);\n",
        "    cout << \"last 5x5\" << endl;\n",
        "    print_matrix_backward(h_C, N, N, 5);\n",
        "\n",
        "    double *cpu_C = (double *)malloc(nr_rows_C * nr_cols_C * sizeof(double));\n",
        "    start = clock();\n",
        "    cpu_mmul(h_A, h_B, cpu_C, N);\n",
        "    end = clock();\n",
        "    cpu_time = (end - start) / CLOCKS_PER_SEC;\n",
        "    cout << \"CPU C =\" << endl;\n",
        "    cout << \"first 5x5\" << endl;\n",
        "    print_matrix_forward(cpu_C, 5, 5);\n",
        "    cout << \"last 5x5\" << endl;\n",
        "    print_matrix_backward(cpu_C, N, N, 5);\n",
        "\n",
        "    double error = 0.0;\n",
        "    for (int i = 0; i < N; ++i) {\n",
        "        for (int j = 0; j < N; ++j) {\n",
        "            error += h_C[i * N + j] - cpu_C[i * N + j];\n",
        "        }\n",
        "    }\n",
        "\n",
        "    cout << \"\\nError = \" << error << endl;\n",
        "    cout << \"\\nN = \" << N << endl;\n",
        "    cout << \"\\nGPU mul time = \" << gpu_time << \" seconds\" << endl;\n",
        "    cout << \"\\nCPU mul time = \" << cpu_time  << \" seconds\" << endl;\n",
        "\n",
        "    //cudaEventDestroy(start_ev);\n",
        "    //cudaEventDestroy(stop_ev);\n",
        "\n",
        "    //Free GPU memory\n",
        "    cudaFree(d_A);\n",
        "    cudaFree(d_B);\n",
        "    cudaFree(d_C);\n",
        "\n",
        "    // Free CPU memory\n",
        "    free(h_A);\n",
        "    free(h_B);\n",
        "    free(h_C);\n",
        "    return 0;\n",
        "}"
      ],
      "metadata": {
        "colab": {
          "base_uri": "https://localhost:8080/",
          "height": 35
        },
        "id": "W5jhIXCEF8o4",
        "outputId": "29790f08-67de-4336-8ffe-42aef86f8728"
      },
      "execution_count": 311,
      "outputs": [
        {
          "output_type": "execute_result",
          "data": {
            "text/plain": [
              "'File written in /content/src/matmul.cu'"
            ],
            "application/vnd.google.colaboratory.intrinsic+json": {
              "type": "string"
            }
          },
          "metadata": {},
          "execution_count": 311
        }
      ]
    },
    {
      "cell_type": "code",
      "source": [
        "!nvcc -o /content/src/matmul /content/src/matmul.cu -lcurand -lcublas"
      ],
      "metadata": {
        "id": "i8sYZSk5F-R3"
      },
      "execution_count": 312,
      "outputs": []
    },
    {
      "cell_type": "code",
      "source": [
        "!/content/src/matmul 2000"
      ],
      "metadata": {
        "colab": {
          "base_uri": "https://localhost:8080/"
        },
        "id": "7JPSB662F_bA",
        "outputId": "c7455c52-4c1e-490a-ce90-bd117d7c0aac"
      },
      "execution_count": 324,
      "outputs": [
        {
          "output_type": "stream",
          "name": "stdout",
          "text": [
            "A =\n",
            "0.189891 0.576693 0.429436 0.305648 0.888270 \n",
            "0.377836 0.971365 0.476818 0.281939 0.461728 \n",
            "0.893754 0.952376 0.487168 0.728830 0.656835 \n",
            "0.887074 0.674655 0.150918 0.303853 0.625329 \n",
            "0.408249 0.725911 0.523650 0.671044 0.665551 \n",
            "\n",
            "B =\n",
            "0.002657 0.496922 0.782056 0.428541 0.430971 \n",
            "0.687939 0.910109 0.196968 0.639749 0.506687 \n",
            "0.990028 0.133030 0.088243 0.819214 0.299985 \n",
            "0.729200 0.443980 0.468774 0.629535 0.968312 \n",
            "0.856006 0.489742 0.454841 0.972538 0.888841 \n",
            "\n",
            "GRID_SIZE: (63, 63, 1)\n",
            "BLOCK_SIZE: (32, 32, 1)\n",
            "\n",
            "GPU C =\n",
            "first 5x5\n",
            "501.909161 497.816145 506.598166 499.367246 500.291108 \n",
            "497.414917 491.646189 497.076312 495.096401 497.412563 \n",
            "498.949937 499.824910 497.737051 487.212312 503.702518 \n",
            "502.071941 500.767015 495.425259 484.456882 510.450254 \n",
            "504.168241 503.943433 492.542246 487.918788 495.157709 \n",
            "\n",
            "last 5x5\n",
            "497.588543 491.706807 503.265698 504.961940 492.702062 \n",
            "510.218915 507.952160 510.508246 522.017772 499.690213 \n",
            "504.241565 493.843108 508.233109 506.890304 494.746554 \n",
            "497.698112 498.778049 500.890413 507.737579 487.140584 \n",
            "517.726325 508.933943 514.553239 525.150905 516.253058 \n",
            "\n",
            "CPU C =\n",
            "first 5x5\n",
            "501.909161 497.816145 506.598166 499.367246 500.291108 \n",
            "497.414917 491.646189 497.076312 495.096401 497.412563 \n",
            "498.949937 499.824910 497.737051 487.212312 503.702518 \n",
            "502.071941 500.767015 495.425259 484.456882 510.450254 \n",
            "504.168241 503.943433 492.542246 487.918788 495.157709 \n",
            "\n",
            "last 5x5\n",
            "497.588543 491.706807 503.265698 504.961940 492.702062 \n",
            "510.218915 507.952160 510.508246 522.017772 499.690213 \n",
            "504.241565 493.843108 508.233109 506.890304 494.746554 \n",
            "497.698112 498.778049 500.890413 507.737579 487.140584 \n",
            "517.726325 508.933943 514.553239 525.150905 516.253058 \n",
            "\n",
            "\n",
            "Error = -9.26548e-11\n",
            "\n",
            "N = 2000\n",
            "\n",
            "GPU mul time = 0.14992 seconds\n",
            "\n",
            "CPU mul time = 117.202 seconds\n"
          ]
        }
      ]
    },
    {
      "cell_type": "code",
      "source": [
        "!pip install matplotlib"
      ],
      "metadata": {
        "colab": {
          "base_uri": "https://localhost:8080/"
        },
        "id": "WweNUmqL-_FB",
        "outputId": "93fdde55-1b70-4664-93a9-9b169decc6c2"
      },
      "execution_count": 325,
      "outputs": [
        {
          "output_type": "stream",
          "name": "stdout",
          "text": [
            "Requirement already satisfied: matplotlib in /usr/local/lib/python3.10/dist-packages (3.7.1)\n",
            "Requirement already satisfied: contourpy>=1.0.1 in /usr/local/lib/python3.10/dist-packages (from matplotlib) (1.1.1)\n",
            "Requirement already satisfied: cycler>=0.10 in /usr/local/lib/python3.10/dist-packages (from matplotlib) (0.12.0)\n",
            "Requirement already satisfied: fonttools>=4.22.0 in /usr/local/lib/python3.10/dist-packages (from matplotlib) (4.43.1)\n",
            "Requirement already satisfied: kiwisolver>=1.0.1 in /usr/local/lib/python3.10/dist-packages (from matplotlib) (1.4.5)\n",
            "Requirement already satisfied: numpy>=1.20 in /usr/local/lib/python3.10/dist-packages (from matplotlib) (1.23.5)\n",
            "Requirement already satisfied: packaging>=20.0 in /usr/local/lib/python3.10/dist-packages (from matplotlib) (23.2)\n",
            "Requirement already satisfied: pillow>=6.2.0 in /usr/local/lib/python3.10/dist-packages (from matplotlib) (9.4.0)\n",
            "Requirement already satisfied: pyparsing>=2.3.1 in /usr/local/lib/python3.10/dist-packages (from matplotlib) (3.1.1)\n",
            "Requirement already satisfied: python-dateutil>=2.7 in /usr/local/lib/python3.10/dist-packages (from matplotlib) (2.8.2)\n",
            "Requirement already satisfied: six>=1.5 in /usr/local/lib/python3.10/dist-packages (from python-dateutil>=2.7->matplotlib) (1.16.0)\n"
          ]
        }
      ]
    },
    {
      "cell_type": "code",
      "source": [
        "from matplotlib import pyplot as plt\n",
        "%matplotlib inline\n",
        "\n",
        "size = [100, 200, 400, 600, 800, 1000, 1200, 1400, 1600, 1800, 2000]\n",
        "gpu_time = [0.000115, 0.000395, 0.001699, 0.00534, 0.00967, 0.02323, 0.04058, 0.06361, 0.09368, 0.13194, 0.14992]\n",
        "cpu_time = [0.004551, 0.067737, 0.387365, 1.39737, 3.25237, 9.05389, 14.3532, 25.5743, 57.0130, 78.2295, 117.202]\n",
        "\n",
        "assert len(size) == len(gpu_time)\n",
        "assert len(size) == len(cpu_time)\n",
        "\n",
        "acceleration = [cpu / gpu for cpu, gpu in zip(cpu_time, gpu_time)]\n",
        "\n",
        "fig, axes = plt.subplots(nrows=1, ncols=2)\n",
        "axes[0].plot(size, cpu_time, label='CPU', color='b')\n",
        "axes[0].plot(size, gpu_time, label='GPU', color='r')\n",
        "axes[0].grid(True)\n",
        "axes[0].legend()\n",
        "axes[0].set_xlabel(\"Размер матрицы\")\n",
        "axes[0].set_ylabel(\"Время умножения, с\")\n",
        "axes[0].set_title('Время матричного умножения')\n",
        "\n",
        "axes[1].plot(size, acceleration, color='g')\n",
        "axes[1].grid(True)\n",
        "axes[1].set_xlabel(\"Размер матрицы\")\n",
        "axes[1].set_ylabel(\"Разы\")\n",
        "axes[1].set_title('Ускорение вычислений на GPU')\n",
        "\n",
        "plt.tight_layout()\n",
        "plt.show()"
      ],
      "metadata": {
        "id": "lc-_YczINC-i",
        "colab": {
          "base_uri": "https://localhost:8080/",
          "height": 487
        },
        "outputId": "a3a56517-23b5-49ef-d296-f1ae06cff1ac"
      },
      "execution_count": 326,
      "outputs": [
        {
          "output_type": "display_data",
          "data": {
            "text/plain": [
              "<Figure size 640x480 with 2 Axes>"
            ],
            "image/png": "[encoded data removed]"
          },
          "metadata": {}
        }
      ]
    }
  ]
}