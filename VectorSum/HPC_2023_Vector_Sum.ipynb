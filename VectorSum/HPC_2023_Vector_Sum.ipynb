{
  "nbformat": 4,
  "nbformat_minor": 0,
  "metadata": {
    "colab": {
      "provenance": [],
      "gpuType": "T4"
    },
    "kernelspec": {
      "name": "python3",
      "display_name": "Python 3"
    },
    "language_info": {
      "name": "python"
    },
    "accelerator": "GPU"
  },
  "cells": [
    {
      "cell_type": "code",
      "execution_count": 1,
      "metadata": {
        "colab": {
          "base_uri": "https://localhost:8080/"
        },
        "id": "pfovO0wKFxNG",
        "outputId": "6cf698f0-a336-47c3-fd80-a88ce4d13c41"
      },
      "outputs": [
        {
          "output_type": "stream",
          "name": "stdout",
          "text": [
            "nvcc: NVIDIA (R) Cuda compiler driver\n",
            "Copyright (c) 2005-2022 NVIDIA Corporation\n",
            "Built on Wed_Sep_21_10:33:58_PDT_2022\n",
            "Cuda compilation tools, release 11.8, V11.8.89\n",
            "Build cuda_11.8.r11.8/compiler.31833905_0\n",
            "Collecting git+https://github.com/andreinechaev/nvcc4jupyter.git\n",
            "  Cloning https://github.com/andreinechaev/nvcc4jupyter.git to /tmp/pip-req-build-lg8846vx\n",
            "  Running command git clone --filter=blob:none --quiet https://github.com/andreinechaev/nvcc4jupyter.git /tmp/pip-req-build-lg8846vx\n",
            "  Resolved https://github.com/andreinechaev/nvcc4jupyter.git to commit 0a71d56e5dce3ff1f0dd2c47c29367629262f527\n",
            "  Preparing metadata (setup.py) ... \u001b[?25l\u001b[?25hdone\n",
            "Building wheels for collected packages: NVCCPlugin\n",
            "  Building wheel for NVCCPlugin (setup.py) ... \u001b[?25l\u001b[?25hdone\n",
            "  Created wheel for NVCCPlugin: filename=NVCCPlugin-0.0.2-py3-none-any.whl size=4295 sha256=3930e1858514e59a6c4ffed97d8ce96cfb1064c469a6755e88435b2f53fefb5f\n",
            "  Stored in directory: /tmp/pip-ephem-wheel-cache-pb09utxy/wheels/a8/b9/18/23f8ef71ceb0f63297dd1903aedd067e6243a68ea756d6feea\n",
            "Successfully built NVCCPlugin\n",
            "Installing collected packages: NVCCPlugin\n",
            "Successfully installed NVCCPlugin-0.0.2\n",
            "created output directory at /content/src\n",
            "Out bin /content/result.out\n"
          ]
        }
      ],
      "source": [
        "!nvcc --version\n",
        "!pip install git+https://github.com/andreinechaev/nvcc4jupyter.git\n",
        "%load_ext nvcc_plugin"
      ]
    },
    {
      "cell_type": "code",
      "source": [
        "%%cuda --name vecsum.cu\n",
        "#include <cstdlib>\n",
        "#include <curand.h>\n",
        "#include <cublas_v2.h>\n",
        "#include <iostream>\n",
        "#include <ctime>\n",
        "\n",
        "\n",
        "using namespace std;\n",
        "\n",
        "\n",
        "// #define BLOCK_SIZE 32\n",
        "\n",
        "\n",
        "__global__ void vecSumKernel(float *a, float *b, float *c, unsigned int size) {\n",
        "    int gridSize = blockDim.x * gridDim.x;\n",
        "    int first_index = blockIdx.x * blockDim.x + threadIdx.x;\n",
        "    for (int index = first_index; index < size; index += gridSize) {\n",
        "        c[index] = a[index] + b[index];\n",
        "    }\n",
        "}\n",
        "\n",
        "#define kernel vecSumKernel\n",
        "\n",
        "\n",
        "void cpu_vec_sum(float *a, float *b, float *c, unsigned int size) {\n",
        "    for (int i = 0; i < size; ++i) {\n",
        "        c[i] = a[i] + b[i];\n",
        "    }\n",
        "}\n",
        "\n",
        "void print_first_last(const float* c, const int &size) {\n",
        "    printf(\"First 5 elements: \");\n",
        "    for (int i = 0; i < 5; ++i) {\n",
        "        printf(\"%f \", c[i]);\n",
        "    }\n",
        "    printf(\"\\nLast 5 elements: \");\n",
        "    for (int i = size - 5; i < size; ++i) {\n",
        "        printf(\"%f \", c[i]);\n",
        "    }\n",
        "}\n",
        "\n",
        "\n",
        "int main(int argc, char* argv[])\n",
        "{\n",
        "\n",
        "    int n = atoi(argv[1]);\n",
        "\n",
        "    printf(\"n = %d\\n\", n);\n",
        "\n",
        "    int n2b = n * sizeof(int);\n",
        "    int n2 = n;\n",
        "    int GRID_SIZE = 512;\n",
        "    int BLOCK_SIZE = 1024;\n",
        "\n",
        "    float gpuTime = 0.0f;\n",
        "    double cpu_start, cpu_end;\n",
        "\n",
        "    // Выделение памяти на хосте\n",
        "    float *a = (float*) malloc(n2 * sizeof(float));\n",
        "    float *b = (float*) malloc(n2 * sizeof(float));\n",
        "    float *c = (float*) malloc(n2 * sizeof(float));\n",
        "    float *cpu_c = (float*) malloc(n2 * sizeof(float));\n",
        "\n",
        "      // Инициализация массивов\n",
        "    for (int i = 0; i < n2; ++i) {\n",
        "        a[i] = (float) (i + 1);\n",
        "        b[i] = (float) (i + 1);\n",
        "    }\n",
        "\n",
        "    printf(\"\\nCPU:\");\n",
        "    cpu_start = clock();\n",
        "    cpu_vec_sum(a, b, cpu_c, n2);\n",
        "    cpu_end = clock();\n",
        "\n",
        "    printf(\"\\n\");\n",
        "    print_first_last(cpu_c, n);\n",
        "\n",
        "    // Выделение памяти на устройстве\n",
        "    float* adev = NULL;\n",
        "    cudaError_t cuerr = cudaMalloc((void**)&adev, n2b);\n",
        "    if (cuerr != cudaSuccess)\n",
        "    {\n",
        "        fprintf(stderr, \"Cannot allocate device array for a: %s\\n\",\n",
        "            cudaGetErrorString(cuerr));\n",
        "        return 0;\n",
        "    }\n",
        "\n",
        "    float* bdev = NULL;\n",
        "    cuerr = cudaMalloc((void**)&bdev, n2b);\n",
        "    if (cuerr != cudaSuccess)\n",
        "    {\n",
        "        fprintf(stderr, \"Cannot allocate device array for b: %s\\n\",\n",
        "            cudaGetErrorString(cuerr));\n",
        "        return 0;\n",
        "    }\n",
        "\n",
        "    float * cdev = NULL;\n",
        "    cuerr = cudaMalloc((void**)&cdev, n2b);\n",
        "    if (cuerr != cudaSuccess)\n",
        "    {\n",
        "        fprintf(stderr, \"Cannot allocate device array for c: %s\\n\",\n",
        "            cudaGetErrorString(cuerr));\n",
        "        return 0;\n",
        "    }\n",
        "\n",
        "    // Создание обработчиков событий\n",
        "    cudaEvent_t start_ev, stop_ev;\n",
        "    cuerr = cudaEventCreate(&start_ev);\n",
        "    if (cuerr != cudaSuccess)\n",
        "    {\n",
        "        fprintf(stderr, \"Cannot create CUDA start event: %s\\n\",\n",
        "            cudaGetErrorString(cuerr));\n",
        "        return 0;\n",
        "    }\n",
        "\n",
        "    cuerr = cudaEventCreate(&stop_ev);\n",
        "    if (cuerr != cudaSuccess)\n",
        "    {\n",
        "        fprintf(stderr, \"Cannot create CUDA end event: %s\\n\",\n",
        "            cudaGetErrorString(cuerr));\n",
        "        return 0;\n",
        "    }\n",
        "\n",
        "      // Копирование данных с хоста на девайс\n",
        "    cuerr = cudaMemcpy(adev, a, n2b, cudaMemcpyHostToDevice);\n",
        "    if (cuerr != cudaSuccess)\n",
        "    {\n",
        "        fprintf(stderr, \"Cannot copy a array from host to device: %s\\n\",\n",
        "            cudaGetErrorString(cuerr));\n",
        "        return 0;\n",
        "    }\n",
        "\n",
        "    cuerr = cudaMemcpy(bdev, b, n2b, cudaMemcpyHostToDevice);\n",
        "    if (cuerr != cudaSuccess)\n",
        "    {\n",
        "        fprintf(stderr, \"Cannot copy b array from host to device: %s\\n\",\n",
        "            cudaGetErrorString(cuerr));\n",
        "        return 0;\n",
        "    }\n",
        "\n",
        "    // Установка точки старта\n",
        "    cuerr = cudaEventRecord(start_ev, 0);\n",
        "    if (cuerr != cudaSuccess)\n",
        "    {\n",
        "        fprintf(stderr, \"Cannot record CUDA event: %s\\n\",\n",
        "            cudaGetErrorString(cuerr));\n",
        "        return 0;\n",
        "    }\n",
        "\n",
        "    //Запуск ядра\n",
        "    kernel<<< GRID_SIZE, BLOCK_SIZE >>>(adev, bdev, cdev, n);\n",
        "\n",
        "    cuerr = cudaGetLastError();\n",
        "    if (cuerr != cudaSuccess)\n",
        "    {\n",
        "        fprintf(stderr, \"Cannot launch CUDA kernel: %s\\n\",\n",
        "            cudaGetErrorString(cuerr));\n",
        "        return 0;\n",
        "    }\n",
        "\n",
        "      // Синхронизация устройств\n",
        "    cuerr = cudaDeviceSynchronize();\n",
        "    if (cuerr != cudaSuccess)\n",
        "    {\n",
        "        fprintf(stderr, \"Cannot synchronize CUDA kernel: %s\\n\",\n",
        "            cudaGetErrorString(cuerr));\n",
        "        return 0;\n",
        "    }\n",
        "\n",
        "      // Установка точки окончания\n",
        "    cuerr = cudaEventRecord(stop_ev, 0);\n",
        "    if (cuerr != cudaSuccess)\n",
        "    {\n",
        "        fprintf(stderr, \"Cannot copy c array from device to host: %s\\n\",\n",
        "            cudaGetErrorString(cuerr));\n",
        "        return 0;\n",
        "    }\n",
        "\n",
        "      // Копирование результата на хост\n",
        "    cuerr = cudaMemcpy(c, cdev, n2b, cudaMemcpyDeviceToHost);\n",
        "    if (cuerr != cudaSuccess)\n",
        "    {\n",
        "        fprintf(stderr, \"Cannot copy c array from device to host: %s\\n\",\n",
        "            cudaGetErrorString(cuerr));\n",
        "        return 0;\n",
        "    }\n",
        "\n",
        "    printf(\"\\n\\nGPU:\\n\");\n",
        "    print_first_last(c, n);\n",
        "\n",
        "    // Расчет времени\n",
        "    cuerr = cudaEventElapsedTime(&gpuTime, start_ev, stop_ev);\n",
        "    printf(\"\\n\\ntime spent executing %s: %.9f seconds\\n\", \"kernel\", gpuTime / 1000);\n",
        "    printf(\"\\ntime spent executing %s: %.9f seconds\\n\", \"cpu\", (cpu_end - cpu_start) / CLOCKS_PER_SEC);\n",
        "\n",
        "    // Очищение памяти\n",
        "    cudaEventDestroy(start_ev);\n",
        "    cudaEventDestroy(stop_ev);\n",
        "    cudaFree(adev);\n",
        "    cudaFree(bdev);\n",
        "    cudaFree(cdev);\n",
        "    free(a);\n",
        "    free(b);\n",
        "    free(c);\n",
        "    free(cpu_c);\n",
        "\n",
        "    return 0;\n",
        "}"
      ],
      "metadata": {
        "colab": {
          "base_uri": "https://localhost:8080/",
          "height": 35
        },
        "id": "W5jhIXCEF8o4",
        "outputId": "5fcb28d7-38a1-43b3-a207-d15405f712d0"
      },
      "execution_count": 35,
      "outputs": [
        {
          "output_type": "execute_result",
          "data": {
            "text/plain": [
              "'File written in /content/src/vecsum.cu'"
            ],
            "application/vnd.google.colaboratory.intrinsic+json": {
              "type": "string"
            }
          },
          "metadata": {},
          "execution_count": 35
        }
      ]
    },
    {
      "cell_type": "code",
      "source": [
        "!nvcc -o /content/src/vecsum /content/src/vecsum.cu -lcurand -lcublas"
      ],
      "metadata": {
        "id": "i8sYZSk5F-R3"
      },
      "execution_count": 36,
      "outputs": []
    },
    {
      "cell_type": "code",
      "source": [
        "!/content/src/vecsum 1000000"
      ],
      "metadata": {
        "colab": {
          "base_uri": "https://localhost:8080/"
        },
        "id": "7JPSB662F_bA",
        "outputId": "c5ef51d2-677b-48ab-9886-778ca4c173c9"
      },
      "execution_count": 49,
      "outputs": [
        {
          "output_type": "stream",
          "name": "stdout",
          "text": [
            "n = 1000000\n",
            "\n",
            "CPU:\n",
            "First 5 elements: 2.000000 4.000000 6.000000 8.000000 10.000000 \n",
            "Last 5 elements: 1999992.000000 1999994.000000 1999996.000000 1999998.000000 2000000.000000 \n",
            "\n",
            "GPU:\n",
            "First 5 elements: 2.000000 4.000000 6.000000 8.000000 10.000000 \n",
            "Last 5 elements: 1999992.000000 1999994.000000 1999996.000000 1999998.000000 2000000.000000 \n",
            "\n",
            "time spent executing kernel: 0.000061600 seconds\n",
            "\n",
            "time spent executing cpu: 0.006072000 seconds\n"
          ]
        }
      ]
    },
    {
      "cell_type": "code",
      "source": [
        "!pip install matplotlib"
      ],
      "metadata": {
        "colab": {
          "base_uri": "https://localhost:8080/"
        },
        "id": "WweNUmqL-_FB",
        "outputId": "93fdde55-1b70-4664-93a9-9b169decc6c2"
      },
      "execution_count": null,
      "outputs": [
        {
          "output_type": "stream",
          "name": "stdout",
          "text": [
            "Requirement already satisfied: matplotlib in /usr/local/lib/python3.10/dist-packages (3.7.1)\n",
            "Requirement already satisfied: contourpy>=1.0.1 in /usr/local/lib/python3.10/dist-packages (from matplotlib) (1.1.1)\n",
            "Requirement already satisfied: cycler>=0.10 in /usr/local/lib/python3.10/dist-packages (from matplotlib) (0.12.0)\n",
            "Requirement already satisfied: fonttools>=4.22.0 in /usr/local/lib/python3.10/dist-packages (from matplotlib) (4.43.1)\n",
            "Requirement already satisfied: kiwisolver>=1.0.1 in /usr/local/lib/python3.10/dist-packages (from matplotlib) (1.4.5)\n",
            "Requirement already satisfied: numpy>=1.20 in /usr/local/lib/python3.10/dist-packages (from matplotlib) (1.23.5)\n",
            "Requirement already satisfied: packaging>=20.0 in /usr/local/lib/python3.10/dist-packages (from matplotlib) (23.2)\n",
            "Requirement already satisfied: pillow>=6.2.0 in /usr/local/lib/python3.10/dist-packages (from matplotlib) (9.4.0)\n",
            "Requirement already satisfied: pyparsing>=2.3.1 in /usr/local/lib/python3.10/dist-packages (from matplotlib) (3.1.1)\n",
            "Requirement already satisfied: python-dateutil>=2.7 in /usr/local/lib/python3.10/dist-packages (from matplotlib) (2.8.2)\n",
            "Requirement already satisfied: six>=1.5 in /usr/local/lib/python3.10/dist-packages (from python-dateutil>=2.7->matplotlib) (1.16.0)\n"
          ]
        }
      ]
    },
    {
      "cell_type": "code",
      "source": [
        "from matplotlib import pyplot as plt\n",
        "%matplotlib inline\n",
        "\n",
        "size = [1000, 10000, 50000, 100000, 500000, 1000000]\n",
        "gpu_time = [0.00002, 0.000022, 0.000027, 0.00003, 0.000038, 0.000061]\n",
        "cpu_time = [0.000005, 0.000058, 0.00033, 0.00060, 0.002559, 0.006072]\n",
        "\n",
        "assert len(size) == len(gpu_time)\n",
        "assert len(size) == len(cpu_time)\n",
        "\n",
        "acceleration = [cpu / gpu for cpu, gpu in zip(cpu_time, gpu_time)]\n",
        "\n",
        "fig, axes = plt.subplots(nrows=1, ncols=2)\n",
        "axes[0].plot(size, cpu_time, label='CPU', color='b')\n",
        "axes[0].plot(size, gpu_time, label='GPU', color='r')\n",
        "axes[0].grid(True)\n",
        "axes[0].legend()\n",
        "axes[0].set_xlabel(\"Длина вектора\")\n",
        "axes[0].set_ylabel(\"Время, с\")\n",
        "axes[0].set_title(\"Время векторного сложения\")\n",
        "\n",
        "axes[1].plot(size, acceleration, color='g')\n",
        "axes[1].grid(True)\n",
        "axes[1].set_xlabel(\"Длина вектора\")\n",
        "axes[1].set_ylabel(\"Разы\")\n",
        "axes[1].set_title(\"Ускорение вычислений на GPU\")\n",
        "\n",
        "plt.tight_layout()\n",
        "plt.show()"
      ],
      "metadata": {
        "id": "lc-_YczINC-i",
        "colab": {
          "base_uri": "https://localhost:8080/",
          "height": 487
        },
        "outputId": "f7e36943-6b9a-4eb8-fe3b-5e6e26a9fd65"
      },
      "execution_count": 53,
      "outputs": [
        {
          "output_type": "display_data",
          "data": {
            "text/plain": [
              "<Figure size 640x480 with 2 Axes>"
            ],
            "image/png": "[encoded data removed]"
          },
          "metadata": {}
        }
      ]
    }
  ]
}